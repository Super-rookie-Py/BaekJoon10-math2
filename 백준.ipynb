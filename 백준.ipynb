{
 "cells": [
  {
   "cell_type": "markdown",
   "metadata": {},
   "source": [
    "# 백준 4948문제 수학2-베트르랑 공준\n",
    "### 2020/07/13 Keonwoo Park"
   ]
  },
  {
   "cell_type": "code",
   "execution_count": 38,
   "metadata": {},
   "outputs": [],
   "source": [
    "n = 2\n",
    "prime = [True]*n*2"
   ]
  },
  {
   "cell_type": "code",
   "execution_count": 39,
   "metadata": {},
   "outputs": [],
   "source": [
    "m = int(2*n**0.5)\n",
    "# 2n까지 모든 소수를 구함\n",
    "for i in range(2, m+1):\n",
    "    if prime[i]==True:\n",
    "        for j in range(i+i, 2*n , i):\n",
    "            prime[j]=False\n",
    "\n",
    "    "
   ]
  },
  {
   "cell_type": "code",
   "execution_count": 40,
   "metadata": {},
   "outputs": [],
   "source": [
    "result = [i for i in range(n+1, 2*n) if prime[i]==True]"
   ]
  },
  {
   "cell_type": "code",
   "execution_count": 41,
   "metadata": {},
   "outputs": [
    {
     "data": {
      "text/plain": [
       "[3]"
      ]
     },
     "execution_count": 41,
     "metadata": {},
     "output_type": "execute_result"
    }
   ],
   "source": [
    "result"
   ]
  },
  {
   "cell_type": "markdown",
   "metadata": {},
   "source": [
    "# 실전문제"
   ]
  },
  {
   "cell_type": "code",
   "execution_count": 1,
   "metadata": {},
   "outputs": [
    {
     "name": "stdout",
     "output_type": "stream",
     "text": [
      "1\n",
      "21\n",
      "30\n",
      "50\n",
      "1200\n",
      "0\n"
     ]
    }
   ],
   "source": [
    "num = []\n",
    "while True:\n",
    "    n = int(input())\n",
    "    if n==0:\n",
    "        break\n",
    "    num.append(n)\n",
    "    "
   ]
  },
  {
   "cell_type": "code",
   "execution_count": 2,
   "metadata": {},
   "outputs": [],
   "source": [
    "ans = []\n",
    "for n in num:\n",
    "    if n==1:\n",
    "        ans.append(1)\n",
    "    else:\n",
    "        prime = [True]*n*2\n",
    "        m = int(2*n**0.5)\n",
    "        # 2n까지 모든 소수를 구함\n",
    "        for i in range(2, m+1):\n",
    "            if prime[i]==True:\n",
    "                for j in range(i+i, 2*n , i):\n",
    "                    prime[j]=False\n",
    "        result = [i for i in range(n+1, 2*n) if prime[i]==True]\n",
    "        ans.append(len(result))\n",
    "    \n",
    "   "
   ]
  },
  {
   "cell_type": "code",
   "execution_count": 3,
   "metadata": {},
   "outputs": [
    {
     "name": "stdout",
     "output_type": "stream",
     "text": [
      "1\n",
      "5\n",
      "7\n",
      "10\n",
      "161\n"
     ]
    }
   ],
   "source": [
    "for i in ans:\n",
    "    print(i)"
   ]
  },
  {
   "cell_type": "code",
   "execution_count": null,
   "metadata": {},
   "outputs": [],
   "source": []
  }
 ],
 "metadata": {
  "kernelspec": {
   "display_name": "Python 3",
   "language": "python",
   "name": "python3"
  },
  "language_info": {
   "codemirror_mode": {
    "name": "ipython",
    "version": 3
   },
   "file_extension": ".py",
   "mimetype": "text/x-python",
   "name": "python",
   "nbconvert_exporter": "python",
   "pygments_lexer": "ipython3",
   "version": "3.6.2"
  }
 },
 "nbformat": 4,
 "nbformat_minor": 4
}
