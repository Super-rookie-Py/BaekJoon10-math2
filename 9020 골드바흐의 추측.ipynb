{
 "cells": [
  {
   "cell_type": "markdown",
   "metadata": {},
   "source": [
    "# 백준 9020문제 수학2- 골드바흐의 추측\n",
    "### 2020/07/14 Keonwoo Park"
   ]
  },
  {
   "cell_type": "code",
   "execution_count": 1,
   "metadata": {},
   "outputs": [],
   "source": [
    "n = 10000\n",
    "num= [True]*n\n",
    "m = int(n**0.5)\n",
    "for i in range(2,m+1):\n",
    "    if num[i]==True:\n",
    "        for j in range(i+i,n,i):\n",
    "            num[j]=False"
   ]
  },
  {
   "cell_type": "code",
   "execution_count": 2,
   "metadata": {},
   "outputs": [],
   "source": [
    "prime = [i for i in range(2,n) if num[i]==True]"
   ]
  },
  {
   "cell_type": "code",
   "execution_count": 3,
   "metadata": {},
   "outputs": [
    {
     "name": "stdout",
     "output_type": "stream",
     "text": [
      "3\n"
     ]
    }
   ],
   "source": [
    "case = int(input())"
   ]
  },
  {
   "cell_type": "code",
   "execution_count": 4,
   "metadata": {},
   "outputs": [
    {
     "name": "stdout",
     "output_type": "stream",
     "text": [
      "8\n",
      "3 5\n",
      "10\n",
      "5 5\n",
      "16\n",
      "5 11\n"
     ]
    }
   ],
   "source": [
    "for i in range(case):\n",
    "    a = int(input())\n",
    "    Min = 10000\n",
    "    result=[]\n",
    "    prime_2 = set(prime)\n",
    "    for i in prime:\n",
    "        if a-i in prime_2 and i<= a-i:\n",
    "            result.append(a-2*i)\n",
    "    for i in result:\n",
    "        if i < Min:\n",
    "            Min = i\n",
    "    # p1 + p2 = a\n",
    "    # p2 - p1 = Min\n",
    "    # 2p2 = a + Min\n",
    "    # p2 = (a+ Min)/2\n",
    "    p_2 = int((a+Min)/2)\n",
    "    p_1 = a-p_2\n",
    "    print(p_1,p_2)"
   ]
  }
 ],
 "metadata": {
  "kernelspec": {
   "display_name": "Python 3",
   "language": "python",
   "name": "python3"
  },
  "language_info": {
   "codemirror_mode": {
    "name": "ipython",
    "version": 3
   },
   "file_extension": ".py",
   "mimetype": "text/x-python",
   "name": "python",
   "nbconvert_exporter": "python",
   "pygments_lexer": "ipython3",
   "version": "3.6.2"
  }
 },
 "nbformat": 4,
 "nbformat_minor": 4
}
