{
 "cells": [
  {
   "cell_type": "markdown",
   "metadata": {},
   "source": [
    "# 강의노트\n",
    "### 백준 문제 10단계- 수학2\n",
    "#### 2020/04/27 keonwoo park"
   ]
  },
  {
   "cell_type": "markdown",
   "metadata": {},
   "source": [
    "#### 주어진 수 N개 중에서 소수가 몇 개인지 찾아서 출력하는 프로그램을 작성하시오."
   ]
  },
  {
   "cell_type": "code",
   "execution_count": 2,
   "metadata": {},
   "outputs": [
    {
     "name": "stdout",
     "output_type": "stream",
     "text": [
      "4\n",
      "1 3 5 7\n",
      "3\n"
     ]
    }
   ],
   "source": [
    "a = int(input())\n",
    "\n",
    "b = list(map(int,input().split()))\n",
    "\n",
    "count = 2\n",
    "result = 0\n",
    "for i in b:\n",
    "    count = 2\n",
    "    if i == 2:\n",
    "        result = result + 1\n",
    "    while count < i:\n",
    "        if  i % count == 0 :\n",
    "            break\n",
    "        else:\n",
    "            count = count + 1\n",
    "            if count == i:\n",
    "                result = result + 1\n",
    "print(result)"
   ]
  },
  {
   "cell_type": "markdown",
   "metadata": {},
   "source": [
    "### 20/05/26 keonwoo Park "
   ]
  },
  {
   "cell_type": "markdown",
   "metadata": {},
   "source": [
    "#### 자연수 M과 N이 주어질 때 M이상 N이하의 자연수 중 소수인 것을 모두 골라 이들 소수의 합과 최솟값을 찾는 프로그램을 작성하시오."
   ]
  },
  {
   "cell_type": "code",
   "execution_count": 69,
   "metadata": {},
   "outputs": [
    {
     "name": "stdout",
     "output_type": "stream",
     "text": [
      "60\n",
      "100\n",
      "620\n",
      "61\n"
     ]
    }
   ],
   "source": [
    "M = int(input())\n",
    "N = int(input())\n",
    "# 주어진 값의 구간을 정한다.\n",
    "interval = list(range(M,N+1))\n",
    "result = []\n",
    "\n",
    "# 구간안의 값들을 2부터 숫자를 나눠서 안나눠지는 값들(소수)을 result에 넣는다.\n",
    "for i in interval:\n",
    "    if i== 2:\n",
    "        result.append(2)\n",
    "    else:\n",
    "        count = 2\n",
    "        while count < i:\n",
    "            if i%count == 0:\n",
    "                count = 2\n",
    "                break\n",
    "            else:\n",
    "                count += 1\n",
    "                if count == i:\n",
    "                    result.append(i)\n",
    "if len(result)==0:\n",
    "    print(-1)\n",
    "else:\n",
    "    print(sum(result))\n",
    "    print(result[0])"
   ]
  },
  {
   "cell_type": "markdown",
   "metadata": {},
   "source": [
    "### 더 간결하게 푸는 방법.(미리 10000개의 숫자틀을 잡아두고 진행)"
   ]
  },
  {
   "cell_type": "code",
   "execution_count": 71,
   "metadata": {},
   "outputs": [
    {
     "name": "stdout",
     "output_type": "stream",
     "text": [
      "60\n",
      "100\n",
      "620\n",
      "61\n"
     ]
    }
   ],
   "source": [
    "arr = [False, False] + [True] * 9999\n",
    "for i in range(2, 101):\n",
    "    if arr[i]:\n",
    "        for j in range(i * 2, len(arr), i):\n",
    "            arr[j] = False\n",
    "\n",
    "m = int(input())\n",
    "n = int(input())\n",
    "nums = [i for i in range(m, n+1) if arr[i]]\n",
    "print(sum(nums)if len(nums) else -1)\n",
    "print(min(nums) if len(nums) else '')"
   ]
  },
  {
   "cell_type": "markdown",
   "metadata": {},
   "source": [
    "#### 첫째 줄에 자연수 M과 N이 빈 칸을 사이에 두고 주어진다. (1 ≤ M ≤ N ≤ 1,000,000) M이상 N이하의 소수가 하나 이상 있는 입력만 주어진다."
   ]
  }
 ],
 "metadata": {
  "kernelspec": {
   "display_name": "Python 3",
   "language": "python",
   "name": "python3"
  },
  "language_info": {
   "codemirror_mode": {
    "name": "ipython",
    "version": 3
   },
   "file_extension": ".py",
   "mimetype": "text/x-python",
   "name": "python",
   "nbconvert_exporter": "python",
   "pygments_lexer": "ipython3",
   "version": "3.6.2"
  }
 },
 "nbformat": 4,
 "nbformat_minor": 4
}
